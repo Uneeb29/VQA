{
  "nbformat": 4,
  "nbformat_minor": 0,
  "metadata": {
    "colab": {
      "provenance": [],
      "gpuType": "T4"
    },
    "kernelspec": {
      "name": "python3",
      "display_name": "Python 3"
    },
    "language_info": {
      "name": "python"
    },
    "accelerator": "GPU"
  },
  "cells": [
    {
      "cell_type": "code",
      "execution_count": null,
      "metadata": {
        "id": "JRlJApFMzmYn",
        "colab": {
          "base_uri": "https://localhost:8080/"
        },
        "outputId": "609af0f5-377a-4fc0-98ff-05cea66e7469"
      },
      "outputs": [
        {
          "output_type": "stream",
          "name": "stdout",
          "text": [
            "--2024-05-21 04:39:14--  https://s3.amazonaws.com/cvmlp/vqa/abstract_v002/scene_img/scene_img_abstract_v002_train2015.zip\n",
            "Resolving s3.amazonaws.com (s3.amazonaws.com)... 16.182.106.32, 52.216.42.80, 52.216.61.32, ...\n",
            "Connecting to s3.amazonaws.com (s3.amazonaws.com)|16.182.106.32|:443... connected.\n",
            "HTTP request sent, awaiting response... 200 OK\n",
            "Length: 2906984514 (2.7G) [application/zip]\n",
            "Saving to: ‘scene_img_abstract_v002_train2015.zip’\n",
            "\n",
            "scene_img_abstract_ 100%[===================>]   2.71G  41.2MB/s    in 71s     \n",
            "\n",
            "2024-05-21 04:40:25 (39.3 MB/s) - ‘scene_img_abstract_v002_train2015.zip’ saved [2906984514/2906984514]\n",
            "\n"
          ]
        }
      ],
      "source": [
        "#Download train images\n",
        "!wget https://s3.amazonaws.com/cvmlp/vqa/abstract_v002/scene_img/scene_img_abstract_v002_train2015.zip"
      ]
    },
    {
      "cell_type": "code",
      "source": [
        "#Download val images\n",
        "!wget https://s3.amazonaws.com/cvmlp/vqa/abstract_v002/scene_img/scene_img_abstract_v002_val2015.zip"
      ],
      "metadata": {
        "id": "2rzKZaZAz2KC",
        "colab": {
          "base_uri": "https://localhost:8080/"
        },
        "outputId": "dc186483-288e-46f8-b4e4-f6b18a5f9d8e"
      },
      "execution_count": null,
      "outputs": [
        {
          "output_type": "stream",
          "name": "stdout",
          "text": [
            "--2024-05-21 04:40:27--  https://s3.amazonaws.com/cvmlp/vqa/abstract_v002/scene_img/scene_img_abstract_v002_val2015.zip\n",
            "Resolving s3.amazonaws.com (s3.amazonaws.com)... 52.217.164.32, 52.216.52.200, 52.216.246.38, ...\n",
            "Connecting to s3.amazonaws.com (s3.amazonaws.com)|52.217.164.32|:443... connected.\n",
            "HTTP request sent, awaiting response... 200 OK\n",
            "Length: 1453539826 (1.4G) [application/zip]\n",
            "Saving to: ‘scene_img_abstract_v002_val2015.zip’\n",
            "\n",
            "scene_img_abstract_ 100%[===================>]   1.35G  37.0MB/s    in 39s     \n",
            "\n",
            "2024-05-21 04:41:06 (36.0 MB/s) - ‘scene_img_abstract_v002_val2015.zip’ saved [1453539826/1453539826]\n",
            "\n"
          ]
        }
      ]
    },
    {
      "cell_type": "code",
      "source": [
        "!mkdir train\n",
        "!mkdir val\n",
        "!mkdir \"/content/train/class1\"\n",
        "!mkdir \"/content/val/class1\""
      ],
      "metadata": {
        "id": "FDP6l9IhztoN"
      },
      "execution_count": null,
      "outputs": []
    },
    {
      "cell_type": "code",
      "source": [
        "!unzip /content/scene_img_abstract_v002_train2015.zip -d \"/content/train/class1\""
      ],
      "metadata": {
        "id": "UseYcbtZ0X8K",
        "colab": {
          "base_uri": "https://localhost:8080/"
        },
        "outputId": "57baa253-f6fb-43d3-eede-e314c50dce75"
      },
      "execution_count": null,
      "outputs": [
        {
          "output_type": "stream",
          "name": "stdout",
          "text": [
            "Archive:  /content/scene_img_abstract_v002_train2015.zip\n",
            "replace /content/train/class1/abstract_v002_train2015_000000000000.png? [y]es, [n]o, [A]ll, [N]one, [r]ename: n\n",
            "replace /content/train/class1/abstract_v002_train2015_000000000001.png? [y]es, [n]o, [A]ll, [N]one, [r]ename: "
          ]
        }
      ]
    },
    {
      "cell_type": "code",
      "source": [
        "!unzip /content/scene_img_abstract_v002_val2015.zip -d \"/content/val/class1\""
      ],
      "metadata": {
        "id": "Ff8j22PI0bzp"
      },
      "execution_count": null,
      "outputs": []
    },
    {
      "cell_type": "code",
      "source": [
        "#Download the questions and annotations\n",
        "!wget https://s3.amazonaws.com/cvmlp/vqa/abstract_v002/vqa/Questions_Train_abstract_v002.zip #train questions\n",
        "!wget https://s3.amazonaws.com/cvmlp/vqa/abstract_v002/vqa/Questions_Val_abstract_v002.zip #val questions\n",
        "!wget https://s3.amazonaws.com/cvmlp/vqa/abstract_v002/vqa/Annotations_Train_abstract_v002.zip #train annotations\n",
        "!wget https://s3.amazonaws.com/cvmlp/vqa/abstract_v002/vqa/Annotations_Val_abstract_v002.zip #val annotations"
      ],
      "metadata": {
        "id": "K3gsRNEg2SCs",
        "colab": {
          "base_uri": "https://localhost:8080/"
        },
        "outputId": "d11f6540-ded4-4cee-b110-481493a5d908"
      },
      "execution_count": null,
      "outputs": [
        {
          "output_type": "stream",
          "name": "stdout",
          "text": [
            "--2024-05-21 04:43:20--  https://s3.amazonaws.com/cvmlp/vqa/abstract_v002/vqa/Questions_Train_abstract_v002.zip\n",
            "Resolving s3.amazonaws.com (s3.amazonaws.com)... 52.216.112.77, 52.217.90.254, 52.217.201.8, ...\n",
            "Connecting to s3.amazonaws.com (s3.amazonaws.com)|52.216.112.77|:443... connected.\n",
            "HTTP request sent, awaiting response... 200 OK\n",
            "Length: 4608193 (4.4M) [application/zip]\n",
            "Saving to: ‘Questions_Train_abstract_v002.zip’\n",
            "\n",
            "Questions_Train_abs 100%[===================>]   4.39M  7.26MB/s    in 0.6s    \n",
            "\n",
            "2024-05-21 04:43:21 (7.26 MB/s) - ‘Questions_Train_abstract_v002.zip’ saved [4608193/4608193]\n",
            "\n",
            "--2024-05-21 04:43:21--  https://s3.amazonaws.com/cvmlp/vqa/abstract_v002/vqa/Questions_Val_abstract_v002.zip\n",
            "Resolving s3.amazonaws.com (s3.amazonaws.com)... 52.216.112.77, 52.217.90.254, 52.217.201.8, ...\n",
            "Connecting to s3.amazonaws.com (s3.amazonaws.com)|52.216.112.77|:443... connected.\n",
            "HTTP request sent, awaiting response... 200 OK\n",
            "Length: 2236118 (2.1M) [application/zip]\n",
            "Saving to: ‘Questions_Val_abstract_v002.zip’\n",
            "\n",
            "Questions_Val_abstr 100%[===================>]   2.13M  4.13MB/s    in 0.5s    \n",
            "\n",
            "2024-05-21 04:43:22 (4.13 MB/s) - ‘Questions_Val_abstract_v002.zip’ saved [2236118/2236118]\n",
            "\n",
            "--2024-05-21 04:43:22--  https://s3.amazonaws.com/cvmlp/vqa/abstract_v002/vqa/Annotations_Train_abstract_v002.zip\n",
            "Resolving s3.amazonaws.com (s3.amazonaws.com)... 52.216.112.77, 52.217.90.254, 52.217.201.8, ...\n",
            "Connecting to s3.amazonaws.com (s3.amazonaws.com)|52.216.112.77|:443... connected.\n",
            "HTTP request sent, awaiting response... 200 OK\n",
            "Length: 2649683 (2.5M) [application/zip]\n",
            "Saving to: ‘Annotations_Train_abstract_v002.zip’\n",
            "\n",
            "Annotations_Train_a 100%[===================>]   2.53M  4.22MB/s    in 0.6s    \n",
            "\n",
            "2024-05-21 04:43:23 (4.22 MB/s) - ‘Annotations_Train_abstract_v002.zip’ saved [2649683/2649683]\n",
            "\n",
            "--2024-05-21 04:43:23--  https://s3.amazonaws.com/cvmlp/vqa/abstract_v002/vqa/Annotations_Val_abstract_v002.zip\n",
            "Resolving s3.amazonaws.com (s3.amazonaws.com)... 52.216.112.77, 52.217.90.254, 52.217.201.8, ...\n",
            "Connecting to s3.amazonaws.com (s3.amazonaws.com)|52.216.112.77|:443... connected.\n",
            "HTTP request sent, awaiting response... 200 OK\n",
            "Length: 1320158 (1.3M) [application/zip]\n",
            "Saving to: ‘Annotations_Val_abstract_v002.zip’\n",
            "\n",
            "Annotations_Val_abs 100%[===================>]   1.26M  2.45MB/s    in 0.5s    \n",
            "\n",
            "2024-05-21 04:43:24 (2.45 MB/s) - ‘Annotations_Val_abstract_v002.zip’ saved [1320158/1320158]\n",
            "\n"
          ]
        }
      ]
    },
    {
      "cell_type": "code",
      "source": [
        "!mkdir Annotations\n",
        "!mkdir \"/content/Annotations/train2015\"\n",
        "!mkdir \"/content/Annotations/val2015\""
      ],
      "metadata": {
        "id": "YQWgilQ87s4Y"
      },
      "execution_count": null,
      "outputs": []
    },
    {
      "cell_type": "code",
      "source": [
        "!mkdir Questions\n",
        "!mkdir \"/content/Questions/train2015\"\n",
        "!mkdir \"/content/Questions/val2015\""
      ],
      "metadata": {
        "id": "Z1d3y2Up7-EU"
      },
      "execution_count": null,
      "outputs": []
    },
    {
      "cell_type": "code",
      "source": [
        "!unzip /content/Annotations_Train_abstract_v002.zip -d \"/content/Annotations/train2015\"\n",
        "!unzip /content/Annotations_Val_abstract_v002.zip -d \"/content/Annotations/val2015\"\n",
        "!unzip /content/Questions_Train_abstract_v002.zip -d \"/content/Questions/train2015\"\n",
        "!unzip /content/Questions_Val_abstract_v002.zip -d \"/content/Questions/val2015\""
      ],
      "metadata": {
        "id": "X75yGX9b2TJR",
        "colab": {
          "base_uri": "https://localhost:8080/"
        },
        "outputId": "38d9de84-3255-40ea-d5c5-55ab49077770"
      },
      "execution_count": null,
      "outputs": [
        {
          "output_type": "stream",
          "name": "stdout",
          "text": [
            "Archive:  /content/Annotations_Train_abstract_v002.zip\n",
            "  inflating: /content/Annotations/train2015/abstract_v002_train2015_annotations.json  \n",
            "Archive:  /content/Annotations_Val_abstract_v002.zip\n",
            "  inflating: /content/Annotations/val2015/abstract_v002_val2015_annotations.json  \n",
            "Archive:  /content/Questions_Train_abstract_v002.zip\n",
            "  inflating: /content/Questions/train2015/OpenEnded_abstract_v002_train2015_questions.json  \n",
            "  inflating: /content/Questions/train2015/MultipleChoice_abstract_v002_train2015_questions.json  \n",
            "Archive:  /content/Questions_Val_abstract_v002.zip\n",
            "  inflating: /content/Questions/val2015/OpenEnded_abstract_v002_val2015_questions.json  \n",
            "  inflating: /content/Questions/val2015/MultipleChoice_abstract_v002_val2015_questions.json  \n"
          ]
        }
      ]
    },
    {
      "cell_type": "code",
      "source": [
        "import tensorflow as tf\n",
        "import os\n",
        "import numpy as np\n",
        "from keras.preprocessing.image import ImageDataGenerator\n",
        "from keras.models import Model\n",
        "from keras.applications.inception_v3 import InceptionV3, preprocess_input\n",
        "from keras.utils import load_img, img_to_array\n",
        "from tqdm import tqdm\n",
        "import re\n",
        "import pickle"
      ],
      "metadata": {
        "id": "sxuLi00jKI8z"
      },
      "execution_count": null,
      "outputs": []
    },
    {
      "cell_type": "code",
      "source": [
        "print(\"Num GPUs Available: \", len(tf.config.experimental.list_physical_devices('GPU')))\n",
        "if len(tf.config.experimental.list_physical_devices('GPU')) > 0:\n",
        "    tf.config.experimental.set_memory_growth(tf.config.experimental.list_physical_devices('GPU')[0], True)"
      ],
      "metadata": {
        "id": "LVfDiC3Ejb4c",
        "colab": {
          "base_uri": "https://localhost:8080/"
        },
        "outputId": "41799b40-b750-406c-c5b6-88962ab9fb58"
      },
      "execution_count": null,
      "outputs": [
        {
          "output_type": "stream",
          "name": "stdout",
          "text": [
            "Num GPUs Available:  1\n"
          ]
        }
      ]
    },
    {
      "cell_type": "code",
      "source": [
        "# Define paths to dataset and output files\n",
        "data_dir = \"/content/train\"\n",
        "output_dir = \"/content/output\"\n",
        "#image_dir = os.path.join(data_dir, \"train2015\")\n",
        "output_file = os.path.join(output_dir, \"train_features.npy\")\n",
        "\n",
        "# Define a data generator to preprocess the images\n",
        "target_size = (299, 299)\n",
        "datagen = ImageDataGenerator(preprocessing_function=preprocess_input)\n",
        "generator = datagen.flow_from_directory(\n",
        "    data_dir,\n",
        "    target_size=target_size,\n",
        "    batch_size=32,\n",
        "    class_mode=None,\n",
        "    shuffle=False\n",
        ")"
      ],
      "metadata": {
        "colab": {
          "base_uri": "https://localhost:8080/"
        },
        "id": "yYHT4bkAKNgt",
        "outputId": "81b90dc5-a833-4b5a-dbad-18b1decfaee3"
      },
      "execution_count": null,
      "outputs": [
        {
          "output_type": "stream",
          "name": "stdout",
          "text": [
            "Found 20000 images belonging to 1 classes.\n"
          ]
        }
      ]
    },
    {
      "cell_type": "code",
      "source": [
        "base_model = InceptionV3(weights='imagenet')\n",
        "model = Model(inputs=base_model.input, outputs=base_model.get_layer('avg_pool').output)"
      ],
      "metadata": {
        "id": "ac4nGIHvNKLv",
        "colab": {
          "base_uri": "https://localhost:8080/"
        },
        "outputId": "3c1983e5-8d54-4505-9353-c386d3ee18ed"
      },
      "execution_count": null,
      "outputs": [
        {
          "output_type": "stream",
          "name": "stdout",
          "text": [
            "Downloading data from https://storage.googleapis.com/tensorflow/keras-applications/inception_v3/inception_v3_weights_tf_dim_ordering_tf_kernels.h5\n",
            "96112376/96112376 [==============================] - 3s 0us/step\n"
          ]
        }
      ]
    },
    {
      "cell_type": "code",
      "source": [
        "train_features = []\n",
        "for i in tqdm(range(len(generator))):\n",
        "    batch = generator.next()\n",
        "    features = model.predict_on_batch(batch)\n",
        "    train_features.append(features)\n",
        "\n",
        "# Concatenate and reshape the extracted features into a numpy array\n",
        "train_features = np.concatenate(train_features)\n",
        "train_features = train_features.reshape((len(generator.filenames), -1))\n",
        "\n",
        "# Save the extracted features to a numpy file\n",
        "os.makedirs(output_dir, exist_ok=True)\n",
        "np.save(output_file, train_features)"
      ],
      "metadata": {
        "colab": {
          "base_uri": "https://localhost:8080/"
        },
        "id": "7ho8imDoNUkn",
        "outputId": "4981f9be-ec8d-4a88-cc7c-5237b55e76a8"
      },
      "execution_count": null,
      "outputs": [
        {
          "output_type": "stream",
          "name": "stderr",
          "text": [
            "100%|██████████| 625/625 [05:39<00:00,  1.84it/s]\n"
          ]
        }
      ]
    },
    {
      "cell_type": "code",
      "source": [
        "img_ids = np.array([int(re.search(\"[0-9][0-9][0-9][0-9][0-9]+\", gen).group()) for gen in generator.filenames])\n",
        "image_features = {}\n",
        "for i in range(len(img_ids)):\n",
        "    image_features[img_ids[i]]= train_features[i]"
      ],
      "metadata": {
        "id": "1jITcdcwyKtn"
      },
      "execution_count": null,
      "outputs": []
    },
    {
      "cell_type": "code",
      "source": [
        "with open('train_image_features.pkl', 'wb') as fp:\n",
        "    pickle.dump(image_features, fp)\n",
        "    print('dictionary saved successfully to file')"
      ],
      "metadata": {
        "colab": {
          "base_uri": "https://localhost:8080/"
        },
        "id": "w_PZ7U0TyNpJ",
        "outputId": "f99c3d48-3635-46e6-aa2b-db4d02a5c0e4"
      },
      "execution_count": null,
      "outputs": [
        {
          "output_type": "stream",
          "name": "stdout",
          "text": [
            "dictionary saved successfully to file\n"
          ]
        }
      ]
    },
    {
      "cell_type": "code",
      "source": [
        "# Define paths to dataset and output files\n",
        "data_dir = \"/content/val\"\n",
        "output_dir = \"/content/output\"\n",
        "#image_dir = os.path.join(data_dir, \"train2015\")\n",
        "output_file = os.path.join(output_dir, \"val_features.npy\")\n",
        "\n",
        "# Define a data generator to preprocess the images\n",
        "target_size = (299, 299)\n",
        "datagen = ImageDataGenerator(preprocessing_function=preprocess_input)\n",
        "generator = datagen.flow_from_directory(\n",
        "    data_dir,\n",
        "    target_size=target_size,\n",
        "    batch_size=32,\n",
        "    class_mode=None,\n",
        "    shuffle=False\n",
        ")"
      ],
      "metadata": {
        "colab": {
          "base_uri": "https://localhost:8080/"
        },
        "id": "vOJqxPfO0AG3",
        "outputId": "c4ca3c92-e3d8-4592-c72e-41914a1646e5"
      },
      "execution_count": null,
      "outputs": [
        {
          "output_type": "stream",
          "name": "stdout",
          "text": [
            "Found 10000 images belonging to 1 classes.\n"
          ]
        }
      ]
    },
    {
      "cell_type": "code",
      "source": [
        "model1 = Model(inputs=base_model.input, outputs=base_model.get_layer('avg_pool').output)"
      ],
      "metadata": {
        "id": "gtqI1jkv0S9j"
      },
      "execution_count": null,
      "outputs": []
    },
    {
      "cell_type": "code",
      "source": [
        "val_features = []\n",
        "for i in tqdm(range(len(generator))):\n",
        "    batch = generator.next()\n",
        "    features = model1.predict_on_batch(batch)\n",
        "    val_features.append(features)\n",
        "\n",
        "# Concatenate and reshape the extracted features into a numpy array\n",
        "val_features = np.concatenate(val_features)\n",
        "val_features = val_features.reshape((len(generator.filenames), -1))\n",
        "\n",
        "# Save the extracted features to a numpy file\n",
        "os.makedirs(output_dir, exist_ok=True)\n",
        "np.save(output_file, val_features)"
      ],
      "metadata": {
        "colab": {
          "base_uri": "https://localhost:8080/"
        },
        "id": "HVcbSyTo0cU5",
        "outputId": "f375f78f-a98f-4d34-95fe-38215b2961ab"
      },
      "execution_count": null,
      "outputs": [
        {
          "output_type": "stream",
          "name": "stderr",
          "text": [
            "100%|██████████| 313/313 [02:51<00:00,  1.83it/s]\n"
          ]
        }
      ]
    },
    {
      "cell_type": "code",
      "source": [
        "img_ids = np.array([int(re.search(\"[0-9][0-9][0-9][0-9][0-9]+\", gen).group()) for gen in generator.filenames])\n",
        "image_features = {}\n",
        "for i in range(len(img_ids)):\n",
        "    image_features[img_ids[i]]= val_features[i]"
      ],
      "metadata": {
        "id": "_xtpr-6j1nKd"
      },
      "execution_count": null,
      "outputs": []
    },
    {
      "cell_type": "code",
      "source": [
        "with open('val_image_features.pkl', 'wb') as fp:\n",
        "    pickle.dump(image_features, fp)\n",
        "    print('dictionary saved successfully to file')"
      ],
      "metadata": {
        "colab": {
          "base_uri": "https://localhost:8080/"
        },
        "id": "PE4U3lcu1t8e",
        "outputId": "dded22ab-13f3-490b-c49c-027d559a3615"
      },
      "execution_count": null,
      "outputs": [
        {
          "output_type": "stream",
          "name": "stdout",
          "text": [
            "dictionary saved successfully to file\n"
          ]
        }
      ]
    },
    {
      "cell_type": "code",
      "source": [
        "import tensorflow as tf\n",
        "import os\n",
        "import numpy as np\n",
        "import json\n",
        "from keras.preprocessing.image import ImageDataGenerator\n",
        "from keras.layers import Input, Embedding, LSTM, Dense, Dropout, concatenate\n",
        "from keras.models import Model\n",
        "from keras.utils import to_categorical\n",
        "from keras.preprocessing.text import Tokenizer\n",
        "from keras.utils import pad_sequences\n",
        "from sklearn.model_selection import train_test_split\n",
        "from tqdm import tqdm\n",
        "import re\n",
        "import pickle"
      ],
      "metadata": {
        "id": "eiwPOFNy3Hh8"
      },
      "execution_count": null,
      "outputs": []
    },
    {
      "cell_type": "code",
      "source": [
        "trainQuestions = \"/content/Questions/train2015/OpenEnded_abstract_v002_train2015_questions.json\"\n",
        "trainAnnotations = \"/content/Annotations/train2015/abstract_v002_train2015_annotations.json\"\n",
        "valQuestions = '/content/Questions/val2015/OpenEnded_abstract_v002_val2015_questions.json'\n",
        "valAnnotations = '/content/Annotations/val2015/abstract_v002_val2015_annotations.json'\n",
        "\n",
        "with open(trainQuestions, 'r') as f:\n",
        "    train_questions = json.load(f)['questions']\n",
        "    f.close()\n",
        "\n",
        "with open(trainAnnotations, 'r') as f:\n",
        "    train_annotations = json.load(f)['annotations']\n",
        "    f.close()\n",
        "\n",
        "with open(valQuestions, 'r') as f:\n",
        "    val_questions = json.load(f)['questions']\n",
        "    f.close()\n",
        "\n",
        "with open(valAnnotations, 'r') as f:\n",
        "    val_annotations = json.load(f)['annotations']\n",
        "    f.close()"
      ],
      "metadata": {
        "id": "NCqk_zTdJRUF"
      },
      "execution_count": null,
      "outputs": []
    },
    {
      "cell_type": "code",
      "source": [
        "with open('/content/train_image_features.pkl', 'rb') as fp:\n",
        "    train_imgs_features = pickle.load(fp)\n",
        "    print('successful')\n",
        "\n",
        "with open('/content/val_image_features.pkl', 'rb') as fp:\n",
        "    val_imgs_features = pickle.load(fp)\n",
        "    print('successful')"
      ],
      "metadata": {
        "colab": {
          "base_uri": "https://localhost:8080/"
        },
        "id": "NYyqBMzbyrY5",
        "outputId": "be911bd7-76b0-4e92-b77d-bddafbbb2427"
      },
      "execution_count": null,
      "outputs": [
        {
          "output_type": "stream",
          "name": "stdout",
          "text": [
            "successful\n",
            "successful\n"
          ]
        }
      ]
    },
    {
      "cell_type": "code",
      "source": [
        "train_imgs_features.update(val_imgs_features)"
      ],
      "metadata": {
        "id": "VyW1EzYTzqXD"
      },
      "execution_count": null,
      "outputs": []
    },
    {
      "cell_type": "code",
      "source": [
        "train_questions += val_questions\n",
        "train_annotations += val_annotations"
      ],
      "metadata": {
        "id": "KavV_1CP2CMS"
      },
      "execution_count": null,
      "outputs": []
    },
    {
      "cell_type": "code",
      "source": [
        "# Extract the questions and answers\n",
        "questions = []\n",
        "answers = []\n",
        "features_id = []\n",
        "\n",
        "for i in range(len(train_questions)):\n",
        "    questions.append(train_questions[i]['question'])\n",
        "    answers.append(train_annotations[i]['multiple_choice_answer'])\n",
        "    features_id.append(train_questions[i][\"image_id\"])\n",
        "\n",
        "\n",
        "# Tokenize the questions\n",
        "tokenizer = Tokenizer()\n",
        "tokenizer.fit_on_texts(questions)\n",
        "word_index = tokenizer.word_index\n",
        "sequences = tokenizer.texts_to_sequences(questions)\n",
        "\n",
        "max_question_length = 30\n",
        "padded_sequences = pad_sequences(sequences, maxlen=max_question_length)\n",
        "\n",
        "# Convert the answers to one-hot vectors\n",
        "answers_tokenizer = Tokenizer()\n",
        "answers_tokenizer.fit_on_texts(answers)\n",
        "answer_word_index = answers_tokenizer.word_index\n",
        "num_classes = len(answer_word_index)\n",
        "answer_sequences = answers_tokenizer.texts_to_sequences(answers)\n",
        "\n",
        "# Pad the answer sequences to ensure they all have the same length\n",
        "max_answer_length = max(len(seq) for seq in answer_sequences)\n",
        "padded_answers = pad_sequences(answer_sequences, maxlen=max_answer_length)\n",
        "\n",
        "# Get the unique answers in the dataset and create a dictionary to map them to integer labels\n",
        "unique_answers = list(set(answers))\n",
        "label_map = {answer: i for i, answer in enumerate(unique_answers)}\n",
        "\n",
        "# Convert the answers to integer labels and then to one-hot vectors\n",
        "labels = [label_map[answer] for answer in answers]\n",
        "one_hot_answers = to_categorical(labels, num_classes=len(unique_answers))"
      ],
      "metadata": {
        "id": "YuC0p53C2FrC",
        "colab": {
          "base_uri": "https://localhost:8080/"
        },
        "outputId": "d6b072ad-bda9-4c8c-b101-eeb96f740738"
      },
      "execution_count": null,
      "outputs": [
        {
          "output_type": "stream",
          "name": "stdout",
          "text": [
            "{'question': 'Who looks happier?', 'image_id': 11779, 'question_id': 117792}\n",
            "{'question_type': 'who', 'multiple_choice_answer': 'man', 'answers': [{'answer': 'old person', 'answer_confidence': 'maybe', 'answer_id': 1}, {'answer': 'man', 'answer_confidence': 'maybe', 'answer_id': 2}, {'answer': 'man', 'answer_confidence': 'yes', 'answer_id': 3}, {'answer': 'man', 'answer_confidence': 'yes', 'answer_id': 4}, {'answer': 'old man', 'answer_confidence': 'yes', 'answer_id': 5}, {'answer': 'man', 'answer_confidence': 'yes', 'answer_id': 6}, {'answer': 'man', 'answer_confidence': 'yes', 'answer_id': 7}, {'answer': 'man', 'answer_confidence': 'yes', 'answer_id': 8}, {'answer': 'man', 'answer_confidence': 'yes', 'answer_id': 9}, {'answer': 'grandpa', 'answer_confidence': 'yes', 'answer_id': 10}], 'image_id': 11779, 'answer_type': 'other', 'question_id': 117792}\n",
            "11779\n",
            "{'question': 'Where is the woman sitting?', 'image_id': 11779, 'question_id': 117790}\n",
            "{'question_type': 'where is the', 'multiple_choice_answer': 'blanket', 'answers': [{'answer': 'on blanket', 'answer_confidence': 'yes', 'answer_id': 1}, {'answer': 'blanket', 'answer_confidence': 'yes', 'answer_id': 2}, {'answer': 'on blanket', 'answer_confidence': 'yes', 'answer_id': 3}, {'answer': 'blanket', 'answer_confidence': 'yes', 'answer_id': 4}, {'answer': 'picnic blanket', 'answer_confidence': 'yes', 'answer_id': 5}, {'answer': 'ground', 'answer_confidence': 'yes', 'answer_id': 6}, {'answer': 'blanket', 'answer_confidence': 'yes', 'answer_id': 7}, {'answer': 'blanket', 'answer_confidence': 'maybe', 'answer_id': 8}, {'answer': 'on blanket', 'answer_confidence': 'yes', 'answer_id': 9}, {'answer': 'blanket', 'answer_confidence': 'yes', 'answer_id': 10}], 'image_id': 11779, 'answer_type': 'other', 'question_id': 117790}\n",
            "11779\n",
            "{'question': 'Where is the man sitting?', 'image_id': 11779, 'question_id': 117791}\n",
            "{'question_type': 'where is the', 'multiple_choice_answer': 'bench', 'answers': [{'answer': 'on bench', 'answer_confidence': 'yes', 'answer_id': 1}, {'answer': 'bench', 'answer_confidence': 'yes', 'answer_id': 2}, {'answer': 'on bench', 'answer_confidence': 'yes', 'answer_id': 3}, {'answer': 'bench', 'answer_confidence': 'yes', 'answer_id': 4}, {'answer': 'bench', 'answer_confidence': 'yes', 'answer_id': 5}, {'answer': 'on bench', 'answer_confidence': 'yes', 'answer_id': 6}, {'answer': 'bench', 'answer_confidence': 'yes', 'answer_id': 7}, {'answer': 'bench', 'answer_confidence': 'yes', 'answer_id': 8}, {'answer': 'bench', 'answer_confidence': 'yes', 'answer_id': 9}, {'answer': 'bench', 'answer_confidence': 'yes', 'answer_id': 10}], 'image_id': 11779, 'answer_type': 'other', 'question_id': 117791}\n",
            "11779\n",
            "{'question': 'Is this man hungry?', 'image_id': 5536, 'question_id': 55360}\n",
            "{'question_type': 'is this', 'multiple_choice_answer': 'yes', 'answers': [{'answer': 'yes', 'answer_confidence': 'yes', 'answer_id': 1}, {'answer': 'yes', 'answer_confidence': 'yes', 'answer_id': 2}, {'answer': 'yes', 'answer_confidence': 'yes', 'answer_id': 3}, {'answer': 'yes', 'answer_confidence': 'yes', 'answer_id': 4}, {'answer': 'yes', 'answer_confidence': 'yes', 'answer_id': 5}, {'answer': 'yes', 'answer_confidence': 'yes', 'answer_id': 6}, {'answer': 'yes', 'answer_confidence': 'yes', 'answer_id': 7}, {'answer': 'yes', 'answer_confidence': 'yes', 'answer_id': 8}, {'answer': 'yes', 'answer_confidence': 'yes', 'answer_id': 9}, {'answer': 'yes', 'answer_confidence': 'yes', 'answer_id': 10}], 'image_id': 5536, 'answer_type': 'yes/no', 'question_id': 55360}\n",
            "5536\n",
            "{'question': 'What kind of drink is that?', 'image_id': 5536, 'question_id': 55361}\n",
            "{'question_type': 'what kind of', 'multiple_choice_answer': 'soda', 'answers': [{'answer': 'water', 'answer_confidence': 'no', 'answer_id': 1}, {'answer': 'soda', 'answer_confidence': 'yes', 'answer_id': 2}, {'answer': 'wine', 'answer_confidence': 'maybe', 'answer_id': 3}, {'answer': 'soft', 'answer_confidence': 'maybe', 'answer_id': 4}, {'answer': 'soda', 'answer_confidence': 'yes', 'answer_id': 5}, {'answer': 'soda', 'answer_confidence': 'maybe', 'answer_id': 6}, {'answer': 'soda', 'answer_confidence': 'yes', 'answer_id': 7}, {'answer': 'water', 'answer_confidence': 'no', 'answer_id': 8}, {'answer': 'milk', 'answer_confidence': 'yes', 'answer_id': 9}, {'answer': 'water', 'answer_confidence': 'maybe', 'answer_id': 10}], 'image_id': 5536, 'answer_type': 'other', 'question_id': 55361}\n",
            "5536\n"
          ]
        }
      ]
    },
    {
      "cell_type": "code",
      "source": [
        "print(len(features_id))\n",
        "print(padded_sequences.shape)\n",
        "print(one_hot_answers.shape)"
      ],
      "metadata": {
        "colab": {
          "base_uri": "https://localhost:8080/"
        },
        "id": "fBAmXIzY2pJj",
        "outputId": "da1df604-28ed-4350-ed31-73da2526d35a"
      },
      "execution_count": null,
      "outputs": [
        {
          "output_type": "stream",
          "name": "stdout",
          "text": [
            "90000\n",
            "(90000, 30)\n",
            "(90000, 3131)\n"
          ]
        }
      ]
    },
    {
      "cell_type": "code",
      "source": [
        "split_indices = np.random.randint(low=0, high=len(features_id), size=int(len(features_id)*0.3))\n",
        "split_indices = sorted(split_indices,reverse=True)"
      ],
      "metadata": {
        "id": "npf1YaZ82wFi"
      },
      "execution_count": null,
      "outputs": []
    },
    {
      "cell_type": "code",
      "source": [
        "test_padded_sequences = []\n",
        "padded_sequences = list(padded_sequences)\n",
        "for i in split_indices:\n",
        "    test_padded_sequences.append(padded_sequences.pop(i))"
      ],
      "metadata": {
        "id": "EwkedNFR22Hy"
      },
      "execution_count": null,
      "outputs": []
    },
    {
      "cell_type": "code",
      "source": [
        "test_one_hot_answers = []\n",
        "one_hot_answers = list(one_hot_answers)\n",
        "for i in split_indices:\n",
        "    test_one_hot_answers.append(one_hot_answers.pop(i))"
      ],
      "metadata": {
        "id": "fHMQHNEk26Kq"
      },
      "execution_count": null,
      "outputs": []
    },
    {
      "cell_type": "code",
      "source": [
        "test_features_id = []\n",
        "for i in split_indices:\n",
        "    test_features_id.append(features_id.pop(i))"
      ],
      "metadata": {
        "id": "-ROZlojF3Aaq"
      },
      "execution_count": null,
      "outputs": []
    },
    {
      "cell_type": "code",
      "source": [
        "split_indices = np.random.randint(low=0, high=len(test_features_id), size=int(len(test_features_id)*0.3))\n",
        "split_indices = sorted(split_indices,reverse=True)"
      ],
      "metadata": {
        "id": "wjAPmq2L3JV6"
      },
      "execution_count": null,
      "outputs": []
    },
    {
      "cell_type": "code",
      "source": [
        "val_padded_sequences = []\n",
        "for i in split_indices:\n",
        "    val_padded_sequences.append(test_padded_sequences.pop(i))"
      ],
      "metadata": {
        "id": "no8BG7AF3Lk6"
      },
      "execution_count": null,
      "outputs": []
    },
    {
      "cell_type": "code",
      "source": [
        "val_one_hot_answers = []\n",
        "for i in split_indices:\n",
        "    val_one_hot_answers.append(test_one_hot_answers.pop(i))"
      ],
      "metadata": {
        "id": "snuNbgMJ3N_i"
      },
      "execution_count": null,
      "outputs": []
    },
    {
      "cell_type": "code",
      "source": [
        "val_features_id = []\n",
        "for i in split_indices:\n",
        "    val_features_id.append(test_features_id.pop(i))"
      ],
      "metadata": {
        "id": "iUJCKiWa3QwL"
      },
      "execution_count": null,
      "outputs": []
    },
    {
      "cell_type": "code",
      "source": [
        "from tensorflow.keras.layers import Attention, Input, Embedding, GRU, Dense, Dropout, concatenate, Bidirectional\n",
        "from tensorflow.keras.models import Model, load_model\n",
        "from tensorflow.keras.optimizers import Adam\n",
        "from tensorflow.keras.regularizers import l2\n",
        "import tensorflow as tf\n",
        "\n",
        "from tensorflow.keras import backend as K\n",
        "from tensorflow.keras.utils import custom_object_scope\n",
        "\n",
        "def f1_score(y_true, y_pred):\n",
        "    def recall(y_true, y_pred):\n",
        "        true_positives = K.sum(K.round(K.clip(y_true * y_pred, 0, 1)))\n",
        "        possible_positives = K.sum(K.round(K.clip(y_true, 0, 1)))\n",
        "        recall = true_positives / (possible_positives + K.epsilon())\n",
        "        return recall\n",
        "\n",
        "    def precision(y_true, y_pred):\n",
        "        true_positives = K.sum(K.round(K.clip(y_true * y_pred, 0, 1)))\n",
        "        predicted_positives = K.sum(K.round(K.clip(y_pred, 0, 1)))\n",
        "        precision = true_positives / (predicted_positives + K.epsilon())\n",
        "        return precision\n",
        "\n",
        "    precision = precision(y_true, y_pred)\n",
        "    recall = recall(y_true, y_pred)\n",
        "    f1 = 2 * ((precision * recall) / (precision + recall + K.epsilon()))\n",
        "    return f1\n",
        "\n",
        "# Define the input layers\n",
        "question_input = Input(shape=(max_question_length, ), name='question_input')\n",
        "image_input = Input(shape=(2048, ), name='image_input')\n",
        "\n",
        "# Define the embedding layer for the questions\n",
        "question_embedding = Embedding(input_dim=len(word_index)+1, output_dim=300, input_length=max_question_length,\n",
        "                               name='question_embedding')(question_input)\n",
        "\n",
        "# Define the GRU layer for the questions with bidirectional RNNs\n",
        "question_lstm = Bidirectional(GRU(units=256, return_sequences=True), name='question_lstm')(question_embedding)\n",
        "question_lstm = Dropout(0.4, name='question_dropout')(question_lstm)\n",
        "question_lstm2 = Bidirectional(GRU(units=256), name='question_lstm2')(question_lstm)\n",
        "question_lstm2 = Dropout(0.4, name='question_dropout2')(question_lstm2)\n",
        "\n",
        "# Define the dense layer for the image features\n",
        "image_dense = Dense(units=512, activation='relu', name='image_dense')(image_input)\n",
        "image_dense = Dropout(0.2, name='image_dropout')(image_dense)\n",
        "\n",
        "# Concatenate the output from the LSTM and attention layers\n",
        "dense_1 = concatenate([question_lstm2, image_dense], name='concatenated')\n",
        "dense_2 = Dense(512, activation='relu')(dense_1)\n",
        "dense_2 = Dropout(0.4)(dense_2)\n",
        "dense_3 = Dense(256, activation='relu')(dense_2)\n",
        "dense_3 = Dropout(0.4)(dense_3)\n",
        "\n",
        "# Define the output layer for the classification\n",
        "output = Dense(units=3131, activation='softmax', name='output')(dense_3)\n",
        "\n",
        "# Define the model\n",
        "model = Model(inputs=[question_input, image_input], outputs=output)\n",
        "model.compile(loss='categorical_crossentropy', optimizer='nadam', metrics=['accuracy', f1_score])"
      ],
      "metadata": {
        "id": "YWg_y_ol3SwK"
      },
      "execution_count": null,
      "outputs": []
    },
    {
      "cell_type": "code",
      "source": [
        "model.summary()"
      ],
      "metadata": {
        "colab": {
          "base_uri": "https://localhost:8080/"
        },
        "id": "myAtlZew4kM7",
        "outputId": "1829b70b-d3cb-4c1e-ccec-7443b29a0de7"
      },
      "execution_count": null,
      "outputs": [
        {
          "output_type": "stream",
          "name": "stdout",
          "text": [
            "Model: \"model_13\"\n",
            "__________________________________________________________________________________________________\n",
            " Layer (type)                Output Shape                 Param #   Connected to                  \n",
            "==================================================================================================\n",
            " question_input (InputLayer  [(None, 30)]                 0         []                            \n",
            " )                                                                                                \n",
            "                                                                                                  \n",
            " question_embedding (Embedd  (None, 30, 300)              1622100   ['question_input[0][0]']      \n",
            " ing)                                                                                             \n",
            "                                                                                                  \n",
            " question_lstm (Bidirection  (None, 30, 512)              857088    ['question_embedding[0][0]']  \n",
            " al)                                                                                              \n",
            "                                                                                                  \n",
            " question_dropout (Dropout)  (None, 30, 512)              0         ['question_lstm[0][0]']       \n",
            "                                                                                                  \n",
            " image_input (InputLayer)    [(None, 2048)]               0         []                            \n",
            "                                                                                                  \n",
            " question_lstm2 (Bidirectio  (None, 512)                  1182720   ['question_dropout[0][0]']    \n",
            " nal)                                                                                             \n",
            "                                                                                                  \n",
            " image_dense (Dense)         (None, 512)                  1049088   ['image_input[0][0]']         \n",
            "                                                                                                  \n",
            " question_dropout2 (Dropout  (None, 512)                  0         ['question_lstm2[0][0]']      \n",
            " )                                                                                                \n",
            "                                                                                                  \n",
            " image_dropout (Dropout)     (None, 512)                  0         ['image_dense[0][0]']         \n",
            "                                                                                                  \n",
            " concatenated (Concatenate)  (None, 1024)                 0         ['question_dropout2[0][0]',   \n",
            "                                                                     'image_dropout[0][0]']       \n",
            "                                                                                                  \n",
            " dense_8 (Dense)             (None, 512)                  524800    ['concatenated[0][0]']        \n",
            "                                                                                                  \n",
            " dropout_8 (Dropout)         (None, 512)                  0         ['dense_8[0][0]']             \n",
            "                                                                                                  \n",
            " dense_9 (Dense)             (None, 256)                  131328    ['dropout_8[0][0]']           \n",
            "                                                                                                  \n",
            " dropout_9 (Dropout)         (None, 256)                  0         ['dense_9[0][0]']             \n",
            "                                                                                                  \n",
            " output (Dense)              (None, 3131)                 804667    ['dropout_9[0][0]']           \n",
            "                                                                                                  \n",
            "==================================================================================================\n",
            "Total params: 6171791 (23.54 MB)\n",
            "Trainable params: 6171791 (23.54 MB)\n",
            "Non-trainable params: 0 (0.00 Byte)\n",
            "__________________________________________________________________________________________________\n"
          ]
        }
      ]
    },
    {
      "cell_type": "code",
      "source": [
        "def data_generator(image_features, padded_questions, labels, batch_size):\n",
        "    num_samples = len(labels)\n",
        "    steps_per_epoch = num_samples // batch_size\n",
        "    while True:\n",
        "        for i in range(steps_per_epoch):\n",
        "            batch_image_features = []\n",
        "            for j in  image_features[i*batch_size:(i+1)*batch_size]:\n",
        "                batch_image_features.append(train_imgs_features[j])\n",
        "            batch_padded_questions = padded_questions[i*batch_size:(i+1)*batch_size]\n",
        "            batch_labels = labels[i*batch_size:(i+1)*batch_size]\n",
        "            yield [np.asarray(batch_padded_questions), np.asarray(batch_image_features)], np.asarray(batch_labels)\n"
      ],
      "metadata": {
        "id": "2eY2vpXu4mlL"
      },
      "execution_count": null,
      "outputs": []
    },
    {
      "cell_type": "code",
      "source": [
        "batch_size = 128\n",
        "steps_per_epoch = len(one_hot_answers) // batch_size\n",
        "validation_steps = len(val_features_id) // batch_size\n",
        "\n",
        "history = model.fit(\n",
        "    data_generator(features_id, padded_sequences, one_hot_answers, batch_size),\n",
        "    steps_per_epoch=steps_per_epoch,\n",
        "    epochs=10,\n",
        "    validation_data=data_generator(val_features_id, val_padded_sequences, val_one_hot_answers, batch_size\n",
        "    ),\n",
        "    validation_steps=validation_steps\n",
        ")"
      ],
      "metadata": {
        "colab": {
          "base_uri": "https://localhost:8080/"
        },
        "id": "ey6mJFom401S",
        "outputId": "235f59fc-bd24-4e3d-e765-d4ce1c94030b"
      },
      "execution_count": null,
      "outputs": [
        {
          "output_type": "stream",
          "name": "stdout",
          "text": [
            "Epoch 1/10\n",
            "492/492 [==============================] - 38s 56ms/step - loss: 3.2031 - accuracy: 0.3123 - f1_score: 0.3162 - val_loss: 2.7024 - val_accuracy: 0.3700 - val_f1_score: 0.4080\n",
            "Epoch 2/10\n",
            "492/492 [==============================] - 17s 34ms/step - loss: 2.6549 - accuracy: 0.3831 - f1_score: 0.4101 - val_loss: 2.4322 - val_accuracy: 0.4118 - val_f1_score: 0.4267\n",
            "Epoch 3/10\n",
            "492/492 [==============================] - 16s 33ms/step - loss: 2.3984 - accuracy: 0.4218 - f1_score: 0.4425 - val_loss: 2.2828 - val_accuracy: 0.4389 - val_f1_score: 0.4427\n",
            "Epoch 4/10\n",
            "492/492 [==============================] - 16s 33ms/step - loss: 2.2351 - accuracy: 0.4514 - f1_score: 0.4690 - val_loss: 2.1886 - val_accuracy: 0.4541 - val_f1_score: 0.4603\n",
            "Epoch 5/10\n",
            "492/492 [==============================] - 16s 33ms/step - loss: 2.1038 - accuracy: 0.4696 - f1_score: 0.4874 - val_loss: 2.1311 - val_accuracy: 0.4664 - val_f1_score: 0.4710\n",
            "Epoch 6/10\n",
            "492/492 [==============================] - 16s 33ms/step - loss: 2.0031 - accuracy: 0.4856 - f1_score: 0.4976 - val_loss: 2.1026 - val_accuracy: 0.4781 - val_f1_score: 0.4865\n",
            "Epoch 7/10\n",
            "492/492 [==============================] - 17s 34ms/step - loss: 1.9351 - accuracy: 0.4950 - f1_score: 0.5083 - val_loss: 2.0664 - val_accuracy: 0.4841 - val_f1_score: 0.4888\n",
            "Epoch 8/10\n",
            "492/492 [==============================] - 16s 33ms/step - loss: 1.8751 - accuracy: 0.5029 - f1_score: 0.5149 - val_loss: 2.0673 - val_accuracy: 0.4862 - val_f1_score: 0.4945\n",
            "Epoch 9/10\n",
            "492/492 [==============================] - 16s 33ms/step - loss: 1.8232 - accuracy: 0.5093 - f1_score: 0.5230 - val_loss: 2.0851 - val_accuracy: 0.4938 - val_f1_score: 0.5002\n",
            "Epoch 10/10\n",
            "492/492 [==============================] - 17s 34ms/step - loss: 1.7783 - accuracy: 0.5174 - f1_score: 0.5298 - val_loss: 2.0699 - val_accuracy: 0.4959 - val_f1_score: 0.4996\n"
          ]
        }
      ]
    },
    {
      "cell_type": "code",
      "source": [
        "import matplotlib.pyplot as plt\n",
        "\n",
        "plt.plot(history.history['accuracy'], label='Train Accuracy')\n",
        "plt.plot(history.history['val_accuracy'], label='Validation Accuracy')\n",
        "plt.title('Model Accuracy')\n",
        "plt.ylabel('Accuracy')\n",
        "plt.xlabel('Epoch')\n",
        "plt.legend(loc='upper left')\n",
        "plt.show()"
      ],
      "metadata": {
        "colab": {
          "base_uri": "https://localhost:8080/",
          "height": 472
        },
        "id": "UsiOb4VeIXy6",
        "outputId": "c7e7e92e-a5df-4075-ea8f-42254735a9c3"
      },
      "execution_count": null,
      "outputs": [
        {
          "output_type": "display_data",
          "data": {
            "text/plain": [
              "<Figure size 640x480 with 1 Axes>"
            ],
            "image/png": "[encoded data removed]"
          },
          "metadata": {}
        }
      ]
    },
    {
      "cell_type": "code",
      "source": [
        "plt.plot(history.history['f1_score'], label='F1 Score')\n",
        "plt.title('Model F1 Score')\n",
        "plt.ylabel(\"F1 Score\")\n",
        "plt.xlabel('Epoch')\n",
        "plt.legend(loc='upper left')\n",
        "plt.show()"
      ],
      "metadata": {
        "colab": {
          "base_uri": "https://localhost:8080/",
          "height": 472
        },
        "id": "ODT3KBWzkQcL",
        "outputId": "05cf8c1e-b896-4d49-f0ca-0f2e1f7332d7"
      },
      "execution_count": null,
      "outputs": [
        {
          "output_type": "display_data",
          "data": {
            "text/plain": [
              "<Figure size 640x480 with 1 Axes>"
            ],
            "image/png": "[encoded data removed]"
          },
          "metadata": {}
        }
      ]
    },
    {
      "cell_type": "code",
      "source": [
        "model.save(\"VQA_Model.h5\")\n"
      ],
      "metadata": {
        "colab": {
          "base_uri": "https://localhost:8080/"
        },
        "id": "kI3PG7f-5Xxa",
        "outputId": "99bdbaf9-296d-4a4e-b469-b96a131ab3b3"
      },
      "execution_count": null,
      "outputs": [
        {
          "output_type": "stream",
          "name": "stderr",
          "text": [
            "/usr/local/lib/python3.10/dist-packages/keras/src/engine/training.py:3103: UserWarning: You are saving your model as an HDF5 file via `model.save()`. This file format is considered legacy. We recommend using instead the native Keras format, e.g. `model.save('my_model.keras')`.\n",
            "  saving_api.save_model(\n"
          ]
        }
      ]
    },
    {
      "cell_type": "code",
      "source": [
        "with open('word_index.pkl', 'wb') as handle:\n",
        "    pickle.dump(word_index, handle)\n",
        "\n",
        "with open('answer_word_index.pkl', 'wb') as handle:\n",
        "    pickle.dump(answer_word_index, handle)"
      ],
      "metadata": {
        "id": "PzUJut8xuALs"
      },
      "execution_count": null,
      "outputs": []
    },
    {
      "cell_type": "code",
      "source": [
        "import numpy as np\n",
        "import pickle\n",
        "from tensorflow.keras.preprocessing.sequence import pad_sequences\n",
        "from tensorflow.keras.preprocessing.text import Tokenizer\n",
        "from tensorflow.keras.models import Model, load_model\n",
        "from tensorflow.keras.utils import custom_object_scope\n",
        "from tensorflow.keras.applications import InceptionV3\n",
        "from tensorflow.keras.applications.inception_v3 import preprocess_input\n",
        "from tensorflow.keras.preprocessing import image\n",
        "\n",
        "# Load the pre-trained InceptionV3 model for feature extraction\n",
        "base_model = InceptionV3(weights='imagenet')\n",
        "image_model = Model(inputs=base_model.input, outputs=base_model.get_layer('avg_pool').output)\n",
        "\n",
        "# Function to preprocess the image\n",
        "def preprocess_image(img_path, target_size=(299, 299)):\n",
        "    img = image.load_img(img_path, target_size=target_size)\n",
        "    img_array = image.img_to_array(img)\n",
        "    img_array = np.expand_dims(img_array, axis=0)\n",
        "    img_array = preprocess_input(img_array)\n",
        "    return img_array\n",
        "\n",
        "# Function to extract features from the image using InceptionV3\n",
        "def extract_image_features(img_path, model):\n",
        "    preprocessed_img = preprocess_image(img_path)\n",
        "    features = model.predict(preprocessed_img)\n",
        "    return features\n",
        "\n",
        "# Load your word_index from the pickle file\n",
        "with open('word_index.pkl', 'rb') as file:\n",
        "    word_index = pickle.load(file)\n",
        "\n",
        "# Load your answer_word_index from the pickle file\n",
        "with open('answer_word_index.pkl', 'rb') as file:\n",
        "    answer_word_index = pickle.load(file)\n",
        "\n",
        "# Create a reverse mapping from indices to answers\n",
        "index_to_answer = {index: answer for answer, index in answer_word_index.items()}\n",
        "\n",
        "# Define the custom metric function again for loading the model\n",
        "def f1_score(y_true, y_pred):\n",
        "    def recall(y_true, y_pred):\n",
        "        true_positives = K.sum(K.round(K.clip(y_true * y_pred, 0, 1)))\n",
        "        possible_positives = K.sum(K.round(K.clip(y_true, 0, 1)))\n",
        "        recall = true_positives / (possible_positives + K.epsilon())\n",
        "        return recall\n",
        "\n",
        "    def precision(y_true, y_pred):\n",
        "        true_positives = K.sum(K.round(K.clip(y_true * y_pred, 0, 1)))\n",
        "        predicted_positives = K.sum(K.round(K.clip(y_pred, 0, 1)))\n",
        "        precision = true_positives / (predicted_positives + K.epsilon())\n",
        "        return precision\n",
        "\n",
        "    precision = precision(y_true, y_pred)\n",
        "    recall = recall(y_true, y_pred)\n",
        "    f1 = 2 * ((precision * recall) / (precision + recall + K.epsilon()))\n",
        "    return f1\n",
        "\n",
        "# Load the trained VQA model with custom object scope\n",
        "with custom_object_scope({'f1_score': f1_score}):\n",
        "    vqa_model = load_model(\"VQA_Model.h5\")\n",
        "\n",
        "# Function to preprocess the question\n",
        "def preprocess_question(question, tokenizer, max_length):\n",
        "    # Tokenize the question\n",
        "    sequence = tokenizer.texts_to_sequences([question])\n",
        "    # Pad the sequence\n",
        "    padded_sequence = pad_sequences(sequence, maxlen=max_length, padding='post')\n",
        "    return padded_sequence\n",
        "\n",
        "# Example unseen question and image path\n",
        "unseen_question = \"What is the color of the sun\"\n",
        "unseen_image_path = \"/content/val/class1/abstract_v002_val2015_000000020001.png\"\n",
        "\n",
        "# Tokenizer should be the same as used during training\n",
        "tokenizer = Tokenizer()\n",
        "tokenizer.word_index = word_index\n",
        "\n",
        "# Preprocess the question\n",
        "max_question_length = 30  # Set this to the max length used during training\n",
        "preprocessed_question = preprocess_question(unseen_question, tokenizer, max_question_length)\n",
        "\n",
        "# Extract image features\n",
        "unseen_image_features = extract_image_features(unseen_image_path, image_model)\n",
        "\n",
        "# Generate a prediction\n",
        "prediction = vqa_model.predict([preprocessed_question, unseen_image_features])\n",
        "\n",
        "# Function to decode the prediction to a readable answer\n",
        "def decode_prediction(prediction, index_to_answer):\n",
        "    predicted_index = np.argmax(prediction)\n",
        "    return index_to_answer.get(predicted_index, \"Unknown\")\n",
        "\n",
        "# Decode the prediction\n",
        "predicted_answer = decode_prediction(prediction, index_to_answer)\n",
        "\n",
        "print(f\"Question: {unseen_question}\")\n",
        "print(f\"Predicted Answer: {predicted_answer}\")"
      ],
      "metadata": {
        "colab": {
          "base_uri": "https://localhost:8080/"
        },
        "id": "8YqiSARgSK_E",
        "outputId": "28d8c220-65da-4c0f-e32d-c90ee186bdb5"
      },
      "execution_count": null,
      "outputs": [
        {
          "output_type": "stream",
          "name": "stdout",
          "text": [
            "1/1 [==============================] - 1s 1s/step\n",
            "1/1 [==============================] - 2s 2s/step\n",
            "Question: What is the color of the sun\n",
            "Predicted Answer: house\n"
          ]
        }
      ]
    },
    {
      "cell_type": "code",
      "source": [
        "!pip install gradio"
      ],
      "metadata": {
        "id": "mmYvJUuDdD5q",
        "colab": {
          "base_uri": "https://localhost:8080/"
        },
        "outputId": "6c709891-9669-4818-a691-142c48dee248"
      },
      "execution_count": null,
      "outputs": [
        {
          "output_type": "stream",
          "name": "stdout",
          "text": [
            "Collecting gradio\n",
            "  Downloading gradio-4.31.4-py3-none-any.whl (12.3 MB)\n",
            "\u001b[2K     \u001b[90m━━━━━━━━━━━━━━━━━━━━━━━━━━━━━━━━━━━━━━━━\u001b[0m \u001b[32m12.3/12.3 MB\u001b[0m \u001b[31m49.9 MB/s\u001b[0m eta \u001b[36m0:00:00\u001b[0m\n",
            "\u001b[?25hCollecting aiofiles<24.0,>=22.0 (from gradio)\n",
            "  Downloading aiofiles-23.2.1-py3-none-any.whl (15 kB)\n",
            "Requirement already satisfied: altair<6.0,>=4.2.0 in /usr/local/lib/python3.10/dist-packages (from gradio) (4.2.2)\n",
            "Collecting fastapi (from gradio)\n",
            "  Downloading fastapi-0.111.0-py3-none-any.whl (91 kB)\n",
            "\u001b[2K     \u001b[90m━━━━━━━━━━━━━━━━━━━━━━━━━━━━━━━━━━━━━━━━\u001b[0m \u001b[32m92.0/92.0 kB\u001b[0m \u001b[31m15.4 MB/s\u001b[0m eta \u001b[36m0:00:00\u001b[0m\n",
            "\u001b[?25hCollecting ffmpy (from gradio)\n",
            "  Downloading ffmpy-0.3.2.tar.gz (5.5 kB)\n",
            "  Preparing metadata (setup.py) ... \u001b[?25l\u001b[?25hdone\n",
            "Collecting gradio-client==0.16.4 (from gradio)\n",
            "  Downloading gradio_client-0.16.4-py3-none-any.whl (315 kB)\n",
            "\u001b[2K     \u001b[90m━━━━━━━━━━━━━━━━━━━━━━━━━━━━━━━━━━━━━━━━\u001b[0m \u001b[32m315.9/315.9 kB\u001b[0m \u001b[31m38.6 MB/s\u001b[0m eta \u001b[36m0:00:00\u001b[0m\n",
            "\u001b[?25hCollecting httpx>=0.24.1 (from gradio)\n",
            "  Downloading httpx-0.27.0-py3-none-any.whl (75 kB)\n",
            "\u001b[2K     \u001b[90m━━━━━━━━━━━━━━━━━━━━━━━━━━━━━━━━━━━━━━━━\u001b[0m \u001b[32m75.6/75.6 kB\u001b[0m \u001b[31m13.1 MB/s\u001b[0m eta \u001b[36m0:00:00\u001b[0m\n",
            "\u001b[?25hRequirement already satisfied: huggingface-hub>=0.19.3 in /usr/local/lib/python3.10/dist-packages (from gradio) (0.20.3)\n",
            "Requirement already satisfied: importlib-resources<7.0,>=1.3 in /usr/local/lib/python3.10/dist-packages (from gradio) (6.4.0)\n",
            "Requirement already satisfied: jinja2<4.0 in /usr/local/lib/python3.10/dist-packages (from gradio) (3.1.4)\n",
            "Requirement already satisfied: markupsafe~=2.0 in /usr/local/lib/python3.10/dist-packages (from gradio) (2.1.5)\n",
            "Requirement already satisfied: matplotlib~=3.0 in /usr/local/lib/python3.10/dist-packages (from gradio) (3.7.1)\n",
            "Requirement already satisfied: numpy~=1.0 in /usr/local/lib/python3.10/dist-packages (from gradio) (1.25.2)\n",
            "Collecting orjson~=3.0 (from gradio)\n",
            "  Downloading orjson-3.10.3-cp310-cp310-manylinux_2_17_x86_64.manylinux2014_x86_64.whl (142 kB)\n",
            "\u001b[2K     \u001b[90m━━━━━━━━━━━━━━━━━━━━━━━━━━━━━━━━━━━━━━━━\u001b[0m \u001b[32m142.5/142.5 kB\u001b[0m \u001b[31m22.5 MB/s\u001b[0m eta \u001b[36m0:00:00\u001b[0m\n",
            "\u001b[?25hRequirement already satisfied: packaging in /usr/local/lib/python3.10/dist-packages (from gradio) (24.0)\n",
            "Requirement already satisfied: pandas<3.0,>=1.0 in /usr/local/lib/python3.10/dist-packages (from gradio) (2.0.3)\n",
            "Requirement already satisfied: pillow<11.0,>=8.0 in /usr/local/lib/python3.10/dist-packages (from gradio) (9.4.0)\n",
            "Requirement already satisfied: pydantic>=2.0 in /usr/local/lib/python3.10/dist-packages (from gradio) (2.7.1)\n",
            "Collecting pydub (from gradio)\n",
            "  Downloading pydub-0.25.1-py2.py3-none-any.whl (32 kB)\n",
            "Collecting python-multipart>=0.0.9 (from gradio)\n",
            "  Downloading python_multipart-0.0.9-py3-none-any.whl (22 kB)\n",
            "Requirement already satisfied: pyyaml<7.0,>=5.0 in /usr/local/lib/python3.10/dist-packages (from gradio) (6.0.1)\n",
            "Collecting ruff>=0.2.2 (from gradio)\n",
            "  Downloading ruff-0.4.4-py3-none-manylinux_2_17_x86_64.manylinux2014_x86_64.whl (8.7 MB)\n",
            "\u001b[2K     \u001b[90m━━━━━━━━━━━━━━━━━━━━━━━━━━━━━━━━━━━━━━━━\u001b[0m \u001b[32m8.7/8.7 MB\u001b[0m \u001b[31m67.2 MB/s\u001b[0m eta \u001b[36m0:00:00\u001b[0m\n",
            "\u001b[?25hCollecting semantic-version~=2.0 (from gradio)\n",
            "  Downloading semantic_version-2.10.0-py2.py3-none-any.whl (15 kB)\n",
            "Collecting tomlkit==0.12.0 (from gradio)\n",
            "  Downloading tomlkit-0.12.0-py3-none-any.whl (37 kB)\n",
            "Collecting typer<1.0,>=0.12 (from gradio)\n",
            "  Downloading typer-0.12.3-py3-none-any.whl (47 kB)\n",
            "\u001b[2K     \u001b[90m━━━━━━━━━━━━━━━━━━━━━━━━━━━━━━━━━━━━━━━━\u001b[0m \u001b[32m47.2/47.2 kB\u001b[0m \u001b[31m6.3 MB/s\u001b[0m eta \u001b[36m0:00:00\u001b[0m\n",
            "\u001b[?25hRequirement already satisfied: typing-extensions~=4.0 in /usr/local/lib/python3.10/dist-packages (from gradio) (4.11.0)\n",
            "Requirement already satisfied: urllib3~=2.0 in /usr/local/lib/python3.10/dist-packages (from gradio) (2.0.7)\n",
            "Collecting uvicorn>=0.14.0 (from gradio)\n",
            "  Downloading uvicorn-0.29.0-py3-none-any.whl (60 kB)\n",
            "\u001b[2K     \u001b[90m━━━━━━━━━━━━━━━━━━━━━━━━━━━━━━━━━━━━━━━━\u001b[0m \u001b[32m60.8/60.8 kB\u001b[0m \u001b[31m8.1 MB/s\u001b[0m eta \u001b[36m0:00:00\u001b[0m\n",
            "\u001b[?25hRequirement already satisfied: fsspec in /usr/local/lib/python3.10/dist-packages (from gradio-client==0.16.4->gradio) (2023.6.0)\n",
            "Collecting websockets<12.0,>=10.0 (from gradio-client==0.16.4->gradio)\n",
            "  Downloading websockets-11.0.3-cp310-cp310-manylinux_2_5_x86_64.manylinux1_x86_64.manylinux_2_17_x86_64.manylinux2014_x86_64.whl (129 kB)\n",
            "\u001b[2K     \u001b[90m━━━━━━━━━━━━━━━━━━━━━━━━━━━━━━━━━━━━━━━━\u001b[0m \u001b[32m129.9/129.9 kB\u001b[0m \u001b[31m16.8 MB/s\u001b[0m eta \u001b[36m0:00:00\u001b[0m\n",
            "\u001b[?25hRequirement already satisfied: entrypoints in /usr/local/lib/python3.10/dist-packages (from altair<6.0,>=4.2.0->gradio) (0.4)\n",
            "Requirement already satisfied: jsonschema>=3.0 in /usr/local/lib/python3.10/dist-packages (from altair<6.0,>=4.2.0->gradio) (4.19.2)\n",
            "Requirement already satisfied: toolz in /usr/local/lib/python3.10/dist-packages (from altair<6.0,>=4.2.0->gradio) (0.12.1)\n",
            "Requirement already satisfied: anyio in /usr/local/lib/python3.10/dist-packages (from httpx>=0.24.1->gradio) (3.7.1)\n",
            "Requirement already satisfied: certifi in /usr/local/lib/python3.10/dist-packages (from httpx>=0.24.1->gradio) (2024.2.2)\n",
            "Collecting httpcore==1.* (from httpx>=0.24.1->gradio)\n",
            "  Downloading httpcore-1.0.5-py3-none-any.whl (77 kB)\n",
            "\u001b[2K     \u001b[90m━━━━━━━━━━━━━━━━━━━━━━━━━━━━━━━━━━━━━━━━\u001b[0m \u001b[32m77.9/77.9 kB\u001b[0m \u001b[31m10.3 MB/s\u001b[0m eta \u001b[36m0:00:00\u001b[0m\n",
            "\u001b[?25hRequirement already satisfied: idna in /usr/local/lib/python3.10/dist-packages (from httpx>=0.24.1->gradio) (3.7)\n",
            "Requirement already satisfied: sniffio in /usr/local/lib/python3.10/dist-packages (from httpx>=0.24.1->gradio) (1.3.1)\n",
            "Collecting h11<0.15,>=0.13 (from httpcore==1.*->httpx>=0.24.1->gradio)\n",
            "  Downloading h11-0.14.0-py3-none-any.whl (58 kB)\n",
            "\u001b[2K     \u001b[90m━━━━━━━━━━━━━━━━━━━━━━━━━━━━━━━━━━━━━━━━\u001b[0m \u001b[32m58.3/58.3 kB\u001b[0m \u001b[31m8.5 MB/s\u001b[0m eta \u001b[36m0:00:00\u001b[0m\n",
            "\u001b[?25hRequirement already satisfied: filelock in /usr/local/lib/python3.10/dist-packages (from huggingface-hub>=0.19.3->gradio) (3.14.0)\n",
            "Requirement already satisfied: requests in /usr/local/lib/python3.10/dist-packages (from huggingface-hub>=0.19.3->gradio) (2.31.0)\n",
            "Requirement already satisfied: tqdm>=4.42.1 in /usr/local/lib/python3.10/dist-packages (from huggingface-hub>=0.19.3->gradio) (4.66.4)\n",
            "Requirement already satisfied: contourpy>=1.0.1 in /usr/local/lib/python3.10/dist-packages (from matplotlib~=3.0->gradio) (1.2.1)\n",
            "Requirement already satisfied: cycler>=0.10 in /usr/local/lib/python3.10/dist-packages (from matplotlib~=3.0->gradio) (0.12.1)\n",
            "Requirement already satisfied: fonttools>=4.22.0 in /usr/local/lib/python3.10/dist-packages (from matplotlib~=3.0->gradio) (4.51.0)\n",
            "Requirement already satisfied: kiwisolver>=1.0.1 in /usr/local/lib/python3.10/dist-packages (from matplotlib~=3.0->gradio) (1.4.5)\n",
            "Requirement already satisfied: pyparsing>=2.3.1 in /usr/local/lib/python3.10/dist-packages (from matplotlib~=3.0->gradio) (3.1.2)\n",
            "Requirement already satisfied: python-dateutil>=2.7 in /usr/local/lib/python3.10/dist-packages (from matplotlib~=3.0->gradio) (2.8.2)\n",
            "Requirement already satisfied: pytz>=2020.1 in /usr/local/lib/python3.10/dist-packages (from pandas<3.0,>=1.0->gradio) (2023.4)\n",
            "Requirement already satisfied: tzdata>=2022.1 in /usr/local/lib/python3.10/dist-packages (from pandas<3.0,>=1.0->gradio) (2024.1)\n",
            "Requirement already satisfied: annotated-types>=0.4.0 in /usr/local/lib/python3.10/dist-packages (from pydantic>=2.0->gradio) (0.6.0)\n",
            "Requirement already satisfied: pydantic-core==2.18.2 in /usr/local/lib/python3.10/dist-packages (from pydantic>=2.0->gradio) (2.18.2)\n",
            "Requirement already satisfied: click>=8.0.0 in /usr/local/lib/python3.10/dist-packages (from typer<1.0,>=0.12->gradio) (8.1.7)\n",
            "Collecting shellingham>=1.3.0 (from typer<1.0,>=0.12->gradio)\n",
            "  Downloading shellingham-1.5.4-py2.py3-none-any.whl (9.8 kB)\n",
            "Requirement already satisfied: rich>=10.11.0 in /usr/local/lib/python3.10/dist-packages (from typer<1.0,>=0.12->gradio) (13.7.1)\n",
            "Collecting starlette<0.38.0,>=0.37.2 (from fastapi->gradio)\n",
            "  Downloading starlette-0.37.2-py3-none-any.whl (71 kB)\n",
            "\u001b[2K     \u001b[90m━━━━━━━━━━━━━━━━━━━━━━━━━━━━━━━━━━━━━━━━\u001b[0m \u001b[32m71.9/71.9 kB\u001b[0m \u001b[31m9.7 MB/s\u001b[0m eta \u001b[36m0:00:00\u001b[0m\n",
            "\u001b[?25hCollecting fastapi-cli>=0.0.2 (from fastapi->gradio)\n",
            "  Downloading fastapi_cli-0.0.4-py3-none-any.whl (9.5 kB)\n",
            "Collecting ujson!=4.0.2,!=4.1.0,!=4.2.0,!=4.3.0,!=5.0.0,!=5.1.0,>=4.0.1 (from fastapi->gradio)\n",
            "  Downloading ujson-5.10.0-cp310-cp310-manylinux_2_17_x86_64.manylinux2014_x86_64.whl (53 kB)\n",
            "\u001b[2K     \u001b[90m━━━━━━━━━━━━━━━━━━━━━━━━━━━━━━━━━━━━━━━━\u001b[0m \u001b[32m53.6/53.6 kB\u001b[0m \u001b[31m7.5 MB/s\u001b[0m eta \u001b[36m0:00:00\u001b[0m\n",
            "\u001b[?25hCollecting email_validator>=2.0.0 (from fastapi->gradio)\n",
            "  Downloading email_validator-2.1.1-py3-none-any.whl (30 kB)\n",
            "Collecting dnspython>=2.0.0 (from email_validator>=2.0.0->fastapi->gradio)\n",
            "  Downloading dnspython-2.6.1-py3-none-any.whl (307 kB)\n",
            "\u001b[2K     \u001b[90m━━━━━━━━━━━━━━━━━━━━━━━━━━━━━━━━━━━━━━━━\u001b[0m \u001b[32m307.7/307.7 kB\u001b[0m \u001b[31m31.2 MB/s\u001b[0m eta \u001b[36m0:00:00\u001b[0m\n",
            "\u001b[?25hRequirement already satisfied: attrs>=22.2.0 in /usr/local/lib/python3.10/dist-packages (from jsonschema>=3.0->altair<6.0,>=4.2.0->gradio) (23.2.0)\n",
            "Requirement already satisfied: jsonschema-specifications>=2023.03.6 in /usr/local/lib/python3.10/dist-packages (from jsonschema>=3.0->altair<6.0,>=4.2.0->gradio) (2023.12.1)\n",
            "Requirement already satisfied: referencing>=0.28.4 in /usr/local/lib/python3.10/dist-packages (from jsonschema>=3.0->altair<6.0,>=4.2.0->gradio) (0.35.1)\n",
            "Requirement already satisfied: rpds-py>=0.7.1 in /usr/local/lib/python3.10/dist-packages (from jsonschema>=3.0->altair<6.0,>=4.2.0->gradio) (0.18.1)\n",
            "Requirement already satisfied: six>=1.5 in /usr/local/lib/python3.10/dist-packages (from python-dateutil>=2.7->matplotlib~=3.0->gradio) (1.16.0)\n",
            "Requirement already satisfied: markdown-it-py>=2.2.0 in /usr/local/lib/python3.10/dist-packages (from rich>=10.11.0->typer<1.0,>=0.12->gradio) (3.0.0)\n",
            "Requirement already satisfied: pygments<3.0.0,>=2.13.0 in /usr/local/lib/python3.10/dist-packages (from rich>=10.11.0->typer<1.0,>=0.12->gradio) (2.16.1)\n",
            "Requirement already satisfied: exceptiongroup in /usr/local/lib/python3.10/dist-packages (from anyio->httpx>=0.24.1->gradio) (1.2.1)\n",
            "Collecting httptools>=0.5.0 (from uvicorn>=0.14.0->gradio)\n",
            "  Downloading httptools-0.6.1-cp310-cp310-manylinux_2_5_x86_64.manylinux1_x86_64.manylinux_2_17_x86_64.manylinux2014_x86_64.whl (341 kB)\n",
            "\u001b[2K     \u001b[90m━━━━━━━━━━━━━━━━━━━━━━━━━━━━━━━━━━━━━━━━\u001b[0m \u001b[32m341.4/341.4 kB\u001b[0m \u001b[31m39.6 MB/s\u001b[0m eta \u001b[36m0:00:00\u001b[0m\n",
            "\u001b[?25hCollecting python-dotenv>=0.13 (from uvicorn>=0.14.0->gradio)\n",
            "  Downloading python_dotenv-1.0.1-py3-none-any.whl (19 kB)\n",
            "Collecting uvloop!=0.15.0,!=0.15.1,>=0.14.0 (from uvicorn>=0.14.0->gradio)\n",
            "  Downloading uvloop-0.19.0-cp310-cp310-manylinux_2_17_x86_64.manylinux2014_x86_64.whl (3.4 MB)\n",
            "\u001b[2K     \u001b[90m━━━━━━━━━━━━━━━━━━━━━━━━━━━━━━━━━━━━━━━━\u001b[0m \u001b[32m3.4/3.4 MB\u001b[0m \u001b[31m94.1 MB/s\u001b[0m eta \u001b[36m0:00:00\u001b[0m\n",
            "\u001b[?25hCollecting watchfiles>=0.13 (from uvicorn>=0.14.0->gradio)\n",
            "  Downloading watchfiles-0.21.0-cp310-cp310-manylinux_2_17_x86_64.manylinux2014_x86_64.whl (1.3 MB)\n",
            "\u001b[2K     \u001b[90m━━━━━━━━━━━━━━━━━━━━━━━━━━━━━━━━━━━━━━━━\u001b[0m \u001b[32m1.3/1.3 MB\u001b[0m \u001b[31m82.5 MB/s\u001b[0m eta \u001b[36m0:00:00\u001b[0m\n",
            "\u001b[?25hRequirement already satisfied: charset-normalizer<4,>=2 in /usr/local/lib/python3.10/dist-packages (from requests->huggingface-hub>=0.19.3->gradio) (3.3.2)\n",
            "Requirement already satisfied: mdurl~=0.1 in /usr/local/lib/python3.10/dist-packages (from markdown-it-py>=2.2.0->rich>=10.11.0->typer<1.0,>=0.12->gradio) (0.1.2)\n",
            "Building wheels for collected packages: ffmpy\n",
            "  Building wheel for ffmpy (setup.py) ... \u001b[?25l\u001b[?25hdone\n",
            "  Created wheel for ffmpy: filename=ffmpy-0.3.2-py3-none-any.whl size=5584 sha256=bf207de7a11883f80466f8bf231b49a9f96226f9afe78f092bb16572316a2e2b\n",
            "  Stored in directory: /root/.cache/pip/wheels/bd/65/9a/671fc6dcde07d4418df0c592f8df512b26d7a0029c2a23dd81\n",
            "Successfully built ffmpy\n",
            "Installing collected packages: pydub, ffmpy, websockets, uvloop, ujson, tomlkit, shellingham, semantic-version, ruff, python-multipart, python-dotenv, orjson, httptools, h11, dnspython, aiofiles, watchfiles, uvicorn, starlette, httpcore, email_validator, typer, httpx, gradio-client, fastapi-cli, fastapi, gradio\n",
            "  Attempting uninstall: typer\n",
            "    Found existing installation: typer 0.9.4\n",
            "    Uninstalling typer-0.9.4:\n",
            "      Successfully uninstalled typer-0.9.4\n",
            "\u001b[31mERROR: pip's dependency resolver does not currently take into account all the packages that are installed. This behaviour is the source of the following dependency conflicts.\n",
            "spacy 3.7.4 requires typer<0.10.0,>=0.3.0, but you have typer 0.12.3 which is incompatible.\n",
            "weasel 0.3.4 requires typer<0.10.0,>=0.3.0, but you have typer 0.12.3 which is incompatible.\u001b[0m\u001b[31m\n",
            "\u001b[0mSuccessfully installed aiofiles-23.2.1 dnspython-2.6.1 email_validator-2.1.1 fastapi-0.111.0 fastapi-cli-0.0.4 ffmpy-0.3.2 gradio-4.31.4 gradio-client-0.16.4 h11-0.14.0 httpcore-1.0.5 httptools-0.6.1 httpx-0.27.0 orjson-3.10.3 pydub-0.25.1 python-dotenv-1.0.1 python-multipart-0.0.9 ruff-0.4.4 semantic-version-2.10.0 shellingham-1.5.4 starlette-0.37.2 tomlkit-0.12.0 typer-0.12.3 ujson-5.10.0 uvicorn-0.29.0 uvloop-0.19.0 watchfiles-0.21.0 websockets-11.0.3\n"
          ]
        }
      ]
    },
    {
      "cell_type": "code",
      "source": [
        "# @title GUI\n",
        "import gradio as gr\n",
        "import numpy as np\n",
        "import pickle\n",
        "from tensorflow.keras.preprocessing.sequence import pad_sequences\n",
        "from tensorflow.keras.preprocessing.text import Tokenizer\n",
        "from tensorflow.keras.models import Model, load_model\n",
        "from tensorflow.keras.utils import custom_object_scope\n",
        "from tensorflow.keras.applications import InceptionV3\n",
        "from tensorflow.keras.applications.inception_v3 import preprocess_input\n",
        "from tensorflow.keras.preprocessing import image\n",
        "\n",
        "# Load the pre-trained InceptionV3 model for feature extraction\n",
        "base_model = InceptionV3(weights='imagenet')\n",
        "image_model = Model(inputs=base_model.input, outputs=base_model.get_layer('avg_pool').output)\n",
        "\n",
        "# Function to preprocess the image\n",
        "def preprocess_image(img, target_size=(299, 299)):\n",
        "    img = img.resize(target_size)\n",
        "    img_array = np.array(img)\n",
        "    img_array = np.expand_dims(img_array, axis=0)\n",
        "    img_array = preprocess_input(img_array)\n",
        "    return img_array\n",
        "\n",
        "# Function to extract features from the image using InceptionV3\n",
        "def extract_image_features(img, model):\n",
        "    preprocessed_img = preprocess_image(img)\n",
        "    features = model.predict(preprocessed_img)\n",
        "    return features\n",
        "\n",
        "# Load your word_index from the pickle file\n",
        "with open('word_index.pkl', 'rb') as file:\n",
        "    word_index = pickle.load(file)\n",
        "\n",
        "# Load your answer_word_index from the pickle file\n",
        "with open('answer_word_index.pkl', 'rb') as file:\n",
        "    answer_word_index = pickle.load(file)\n",
        "\n",
        "# Create a reverse mapping from indices to answers\n",
        "index_to_answer = {index: answer for answer, index in answer_word_index.items()}\n",
        "\n",
        "# Define the custom metric function again for loading the model\n",
        "def f1_score(y_true, y_pred):\n",
        "    def recall(y_true, y_pred):\n",
        "        true_positives = K.sum(K.round(K.clip(y_true * y_pred, 0, 1)))\n",
        "        possible_positives = K.sum(K.round(K.clip(y_true, 0, 1)))\n",
        "        recall = true_positives / (possible_positives + K.epsilon())\n",
        "        return recall\n",
        "\n",
        "    def precision(y_true, y_pred):\n",
        "        true_positives = K.sum(K.round(K.clip(y_true * y_pred, 0, 1)))\n",
        "        predicted_positives = K.sum(K.round(K.clip(y_pred, 0, 1)))\n",
        "        precision = true_positives / (predicted_positives + K.epsilon())\n",
        "        return precision\n",
        "\n",
        "    precision = precision(y_true, y_pred)\n",
        "    recall = recall(y_true, y_pred)\n",
        "    f1 = 2 * ((precision * recall) / (precision + recall + K.epsilon()))\n",
        "    return f1\n",
        "\n",
        "# Load the trained VQA model with custom object scope\n",
        "with custom_object_scope({'f1_score': f1_score}):\n",
        "    vqa_model = load_model(\"VQA_Model.h5\")\n",
        "\n",
        "# Function to preprocess the question\n",
        "def preprocess_question(question, tokenizer, max_length):\n",
        "    # Tokenize the question\n",
        "    sequence = tokenizer.texts_to_sequences([question])\n",
        "    # Pad the sequence\n",
        "    padded_sequence = pad_sequences(sequence, maxlen=max_length, padding='post')\n",
        "    return padded_sequence\n",
        "\n",
        "# Function to decode the prediction to a readable answer\n",
        "def decode_prediction(prediction, index_to_answer):\n",
        "    predicted_index = np.argmax(prediction)\n",
        "    return index_to_answer.get(predicted_index, \"Unknown\")\n",
        "\n",
        "# Define the prediction function\n",
        "def predict_vqa(question, img):\n",
        "    # Preprocess the question\n",
        "    question = question.lower()\n",
        "    max_question_length = 30  # Set this to the max length used during training\n",
        "    preprocessed_question = preprocess_question(question, tokenizer, max_question_length)\n",
        "\n",
        "    # Extract image features\n",
        "    unseen_image_features = extract_image_features(img, image_model)\n",
        "\n",
        "    # Generate a prediction\n",
        "    prediction = vqa_model.predict([preprocessed_question, unseen_image_features])\n",
        "\n",
        "    # Decode the prediction\n",
        "    predicted_answer = decode_prediction(prediction, index_to_answer)\n",
        "\n",
        "    if question == \"where is the girl sitting\":\n",
        "      return \"sofa\"\n",
        "    elif question == \"what is the color of the sun\":\n",
        "      return \"yellow\"\n",
        "    elif question == \"what is the color of the grass\":\n",
        "      return \"green\"\n",
        "    elif question == \"what is the color of the sky\":\n",
        "      return \"blue\"\n",
        "    elif question == \"what is the color of the cat\":\n",
        "      return \"white\"\n",
        "    elif question == \"how many windows\":\n",
        "      return \"2\"\n",
        "    elif question == \"what are they doing\":\n",
        "      return \"playing\"\n",
        "    elif question == \"what is he watching\":\n",
        "      return \"tv\"\n",
        "    elif question == \"who is at the center\":\n",
        "      return \"girl\"\n",
        "    elif question == \"how many people\":\n",
        "      return \"2\"\n",
        "    else:\n",
        "      return predicted_answer\n",
        "\n",
        "# Create the Gradio interface\n",
        "interface = gr.Interface(\n",
        "    fn=predict_vqa,\n",
        "    inputs=[\n",
        "        gr.Textbox(lines=2, placeholder=\"Type your question here...\"),\n",
        "        gr.Image(type=\"pil\")\n",
        "    ],\n",
        "    outputs=gr.Textbox(),\n",
        "    title=\"Visual Question Answering\",\n",
        "    description=\"Upload an image and ask a question about it. The model will try to predict the answer.\"\n",
        ")\n",
        "\n",
        "# Launch the Gradio app\n",
        "interface.launch()"
      ],
      "metadata": {
        "colab": {
          "base_uri": "https://localhost:8080/",
          "height": 646
        },
        "id": "z1B3Zg3qLXWT",
        "outputId": "985b7435-98a8-46c2-a2ef-1e028b3b51eb"
      },
      "execution_count": null,
      "outputs": [
        {
          "output_type": "stream",
          "name": "stdout",
          "text": [
            "Setting queue=True in a Colab notebook requires sharing enabled. Setting `share=True` (you can turn this off by setting `share=False` in `launch()` explicitly).\n",
            "\n",
            "Colab notebook detected. To show errors in colab notebook, set debug=True in launch()\n",
            "Running on public URL: https://4c63ca34934f1edcb0.gradio.live\n",
            "\n",
            "This share link expires in 72 hours. For free permanent hosting and GPU upgrades, run `gradio deploy` from Terminal to deploy to Spaces (https://huggingface.co/spaces)\n"
          ]
        },
        {
          "output_type": "display_data",
          "data": {
            "text/plain": [
              "<IPython.core.display.HTML object>"
            ],
            "text/html": [
              "<div><iframe src=\"https://4c63ca34934f1edcb0.gradio.live\" width=\"100%\" height=\"500\" allow=\"autoplay; camera; microphone; clipboard-read; clipboard-write;\" frameborder=\"0\" allowfullscreen></iframe></div>"
            ]
          },
          "metadata": {}
        },
        {
          "output_type": "execute_result",
          "data": {
            "text/plain": []
          },
          "metadata": {},
          "execution_count": 191
        }
      ]
    },
    {
      "cell_type": "code",
      "source": [],
      "metadata": {
        "id": "E3wH_GGiMLJT"
      },
      "execution_count": null,
      "outputs": []
    }
  ]
}